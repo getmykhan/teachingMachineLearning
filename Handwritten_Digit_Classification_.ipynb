{
 "cells": [
  {
   "cell_type": "code",
   "execution_count": 10,
   "metadata": {
    "colab": {},
    "colab_type": "code",
    "id": "6gmtnJuOX-2T"
   },
   "outputs": [],
   "source": [
    "## Import all the dependencies\n",
    "\n",
    "import pandas as pd\n",
    "import numpy as np\n",
    "from keras.models import Sequential\n",
    "from keras.layers import Dense\n",
    "from keras.datasets import mnist\n",
    "from keras.utils import np_utils\n",
    "import matplotlib.pyplot as plt\n",
    "import warnings\n",
    "\n",
    "warnings.filterwarnings('ignore')\n",
    "%matplotlib inline"
   ]
  },
  {
   "cell_type": "code",
   "execution_count": 2,
   "metadata": {
    "colab": {},
    "colab_type": "code",
    "id": "dhKis64YYNfj"
   },
   "outputs": [],
   "source": [
    "## Load the dataset\n",
    "\n",
    "(X_train, y_train), (X_test, y_test) = mnist.load_data()"
   ]
  },
  {
   "cell_type": "code",
   "execution_count": 3,
   "metadata": {
    "colab": {
     "base_uri": "https://localhost:8080/",
     "height": 85
    },
    "colab_type": "code",
    "id": "tNs8gKEpatYi",
    "outputId": "8ca875e4-c84c-40d5-9854-2358b6de00e7"
   },
   "outputs": [
    {
     "name": "stdout",
     "output_type": "stream",
     "text": [
      "Shape of X_train: (60000, 28, 28)\n",
      "Shape of X_test: (10000, 28, 28)\n",
      "Size of X_train: 47040000\n",
      "Size of X_test: 7840000\n"
     ]
    }
   ],
   "source": [
    "## Print the shape and size of the data\n",
    "\n",
    "print(\"Shape of X_train: {}\".format(X_train.shape))\n",
    "print(\"Shape of X_test: {}\".format(X_test.shape))\n",
    "print(\"Size of X_train: {}\".format(X_train.size))\n",
    "print(\"Size of X_test: {}\".format(X_test.size))"
   ]
  },
  {
   "cell_type": "code",
   "execution_count": 4,
   "metadata": {
    "colab": {
     "base_uri": "https://localhost:8080/",
     "height": 498
    },
    "colab_type": "code",
    "id": "jtzfoBopbFbq",
    "outputId": "b05264cd-6c63-4f34-fa8f-ab6336d40c16"
   },
   "outputs": [
    {
     "data": {
      "image/png": "[encoded data removed]",
      "text/plain": [
       "<Figure size 576x576 with 4 Axes>"
      ]
     },
     "metadata": {},
     "output_type": "display_data"
    }
   ],
   "source": [
    "## Visualize a few digits\n",
    "\n",
    "plt.figure(figsize=(8,8))\n",
    "grid_param = 221\n",
    "for i in range(0,4):\n",
    "    plt.subplot(grid_param)\n",
    "    plt.imshow(X_train[i], cmap=plt.get_cmap('gray'))\n",
    "    plt.title('Label:{}'.format(y_train[i]))\n",
    "    grid_param += 1\n",
    "\n",
    "plt.show()"
   ]
  },
  {
   "cell_type": "code",
   "execution_count": 5,
   "metadata": {
    "colab": {},
    "colab_type": "code",
    "id": "80ncH0jPhaJN"
   },
   "outputs": [],
   "source": [
    "## Data Normalization\n",
    "\n",
    "to_predict = X_test[0]\n",
    "num_pixels = X_train.shape[1] * X_train.shape[2]\n",
    "X_train = X_train.reshape(X_train.shape[0], num_pixels).astype('float32')\n",
    "X_test = X_test.reshape(X_test.shape[0], num_pixels).astype('float32')\n",
    "\n",
    "X_train = X_train / 255\n",
    "X_test = X_test / 255\n",
    "\n",
    "y_train = np_utils.to_categorical(y_train)\n",
    "y_test = np_utils.to_categorical(y_test)"
   ]
  },
  {
   "cell_type": "markdown",
   "metadata": {},
   "source": [
    "![](https://www.lucenaresearch.com/wp-content/uploads/2018/04/8-Digit-Recognition.png)"
   ]
  },
  {
   "cell_type": "code",
   "execution_count": 6,
   "metadata": {
    "colab": {
     "base_uri": "https://localhost:8080/",
     "height": 374
    },
    "colab_type": "code",
    "id": "NPomPLplfpCC",
    "outputId": "a87dd1e2-f6e4-4704-95f0-5cf7b109072a"
   },
   "outputs": [
    {
     "name": "stdout",
     "output_type": "stream",
     "text": [
      "Epoch 1/10\n",
      "60000/60000 [==============================] - 10s 166us/step - loss: 0.3574 - acc: 0.8942\n",
      "Epoch 2/10\n",
      "60000/60000 [==============================] - 10s 159us/step - loss: 0.2180 - acc: 0.9360\n",
      "Epoch 3/10\n",
      "60000/60000 [==============================] - 9s 157us/step - loss: 0.1873 - acc: 0.9450\n",
      "Epoch 4/10\n",
      "60000/60000 [==============================] - 9s 157us/step - loss: 0.1692 - acc: 0.9502\n",
      "Epoch 5/10\n",
      "60000/60000 [==============================] - 9s 157us/step - loss: 0.1572 - acc: 0.9535\n",
      "Epoch 6/10\n",
      "60000/60000 [==============================] - 10s 160us/step - loss: 0.1482 - acc: 0.9558\n",
      "Epoch 7/10\n",
      "60000/60000 [==============================] - 9s 157us/step - loss: 0.1411 - acc: 0.9575\n",
      "Epoch 8/10\n",
      "60000/60000 [==============================] - 9s 157us/step - loss: 0.1345 - acc: 0.9596\n",
      "Epoch 9/10\n",
      "60000/60000 [==============================] - 9s 157us/step - loss: 0.1298 - acc: 0.9614\n",
      "Epoch 10/10\n",
      "60000/60000 [==============================] - 9s 157us/step - loss: 0.1257 - acc: 0.9629\n"
     ]
    },
    {
     "data": {
      "text/plain": [
       "<keras.callbacks.History at 0x273c3e00978>"
      ]
     },
     "execution_count": 6,
     "metadata": {},
     "output_type": "execute_result"
    }
   ],
   "source": [
    "## Building an Artificial Neural Network to classify Handwitten Digits\n",
    "\n",
    "#Intialize the model\n",
    "ann = Sequential()\n",
    "\n",
    "#Input Layer\n",
    "ann.add(Dense(16, input_dim=num_pixels, activation='relu'))\n",
    "\n",
    "#Hidden Layer\n",
    "ann.add(Dense(16,  activation='relu'))\n",
    "\n",
    "#Output Layer\n",
    "ann.add(Dense(10, activation='softmax'))\n",
    "\n",
    "#Compile and Fit\n",
    "ann.compile(loss='categorical_crossentropy', optimizer='adam', metrics=['accuracy'])\n",
    "ann.fit(X_train, y_train, epochs=10, batch_size=10)"
   ]
  },
  {
   "cell_type": "markdown",
   "metadata": {},
   "source": [
    "![](https://chsasank.github.io/assets/images/crash_course/mnist_net.png)"
   ]
  },
  {
   "cell_type": "code",
   "execution_count": 7,
   "metadata": {
    "colab": {
     "base_uri": "https://localhost:8080/",
     "height": 299
    },
    "colab_type": "code",
    "id": "rWUWi-h7gcbb",
    "outputId": "0a3ec241-6403-46cd-8f41-bcd2afa28e5d"
   },
   "outputs": [
    {
     "name": "stdout",
     "output_type": "stream",
     "text": [
      "Number to Predict\n"
     ]
    },
    {
     "data": {
      "text/plain": [
       "<matplotlib.image.AxesImage at 0x273c7a36438>"
      ]
     },
     "execution_count": 7,
     "metadata": {},
     "output_type": "execute_result"
    },
    {
     "data": {
      "image/png": "[encoded data removed]",
      "text/plain": [
       "<Figure size 432x288 with 1 Axes>"
      ]
     },
     "metadata": {},
     "output_type": "display_data"
    }
   ],
   "source": [
    "## Prediction\n",
    "print(\"Number to Predict\")\n",
    "plt.imshow(to_predict, cmap=plt.get_cmap('gray'))"
   ]
  },
  {
   "cell_type": "code",
   "execution_count": 8,
   "metadata": {
    "colab": {
     "base_uri": "https://localhost:8080/",
     "height": 34
    },
    "colab_type": "code",
    "id": "WSdD2dJimVue",
    "outputId": "f9c02767-fbae-4cac-9afd-2223f684eb65"
   },
   "outputs": [
    {
     "name": "stdout",
     "output_type": "stream",
     "text": [
      "ANN Prediction:7\n"
     ]
    }
   ],
   "source": [
    "print(\"ANN Prediction:{}\".format(ann.predict_classes(X_test)[0]))"
   ]
  },
  {
   "cell_type": "code",
   "execution_count": 9,
   "metadata": {
    "colab": {},
    "colab_type": "code",
    "id": "Kx2S3F09kYQz"
   },
   "outputs": [],
   "source": [
    "## Image Credits: \n",
    "## 1. https://chsasank.github.io/assets/images/crash_course/mnist_net.png\n",
    "## 2. https://www.lucenaresearch.com/wp-content/uploads/2018/04/8-Digit-Recognition.png\n",
    "\n",
    "## Ends here"
   ]
  }
 ],
 "metadata": {
  "accelerator": "TPU",
  "colab": {
   "collapsed_sections": [],
   "name": "Handwritten Digit Classification .ipynb",
   "provenance": [],
   "version": "0.3.2"
  },
  "kernelspec": {
   "display_name": "Python 3",
   "language": "python",
   "name": "python3"
  },
  "language_info": {
   "codemirror_mode": {
    "name": "ipython",
    "version": 3
   },
   "file_extension": ".py",
   "mimetype": "text/x-python",
   "name": "python",
   "nbconvert_exporter": "python",
   "pygments_lexer": "ipython3",
   "version": "3.6.5"
  }
 },
 "nbformat": 4,
 "nbformat_minor": 1
}
